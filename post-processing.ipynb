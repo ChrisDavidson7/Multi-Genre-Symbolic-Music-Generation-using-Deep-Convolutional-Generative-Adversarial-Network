{
 "metadata": {
  "kernelspec": {
   "language": "python",
   "display_name": "Python 3",
   "name": "python3"
  },
  "language_info": {
   "name": "python",
   "version": "3.7.12",
   "mimetype": "text/x-python",
   "codemirror_mode": {
    "name": "ipython",
    "version": 3
   },
   "pygments_lexer": "ipython3",
   "nbconvert_exporter": "python",
   "file_extension": ".py"
  }
 },
 "nbformat_minor": 4,
 "nbformat": 4,
 "cells": [
  {
   "cell_type": "code",
   "source": [
    "import matplotlib.pyplot as plt\n",
    "from keras.models import load_model\n",
    "import cv2\n",
    "import muspy\n",
    "import numpy as np"
   ],
   "metadata": {
    "execution": {
     "iopub.status.busy": "2023-03-17T13:07:06.305575Z",
     "iopub.execute_input": "2023-03-17T13:07:06.306192Z",
     "iopub.status.idle": "2023-03-17T13:07:14.062091Z",
     "shell.execute_reply.started": "2023-03-17T13:07:06.306131Z",
     "shell.execute_reply": "2023-03-17T13:07:14.060737Z"
    },
    "trusted": true
   },
   "execution_count": 3,
   "outputs": []
  },
  {
   "cell_type": "code",
   "source": [
    "def back_to_format(song):\n",
    "    update_song = np.zeros((128,48))\n",
    "    update_song[45:93] = song\n",
    "    return update_song\n",
    "\n",
    "def decode_img(imgs, velocity=True):\n",
    "    if velocity == True:\n",
    "        imgs = (63.5 * imgs) + 63.5\n",
    "        imgs = np.squeeze(imgs)\n",
    "        imgs[imgs < 40] = 0\n",
    "        imgs = (imgs).astype(int)\n",
    "    else:\n",
    "        imgs = (0.5 * imgs) + 0.5\n",
    "        imgs = np.squeeze(imgs)\n",
    "        imgs = (imgs+0.5).astype(int)\n",
    "    return imgs\n",
    "\n",
    "path = '/kaggle/input/dp2models/model/generator_model_120000.h5'  #path to the trained model\n",
    "generator = load_model(path)\n",
    "\n",
    "dynamics=True\n",
    "\n",
    "for num in range(101, 201, 1):\n",
    "    print(f\"Generating GAN_{num}\")\n",
    "    noise = np.random.normal(0,1,(1, 100))\n",
    "    gen_imgs = generator.predict(noise)\n",
    "    #Axis 3, 0 is for trap, 1 is for r&b, 2 is slap house, 3 is tranceandtech, 4 is latin\n",
    "    gen_imgs = decode_img(imgs=gen_imgs[:,:,:,3], velocity=dynamics)\n",
    "    gen_imgs = back_to_format(gen_imgs)\n",
    "    gen_imgs = cv2.resize(gen_imgs, (192,128), interpolation=cv2.INTER_AREA)\n",
    "    gen_imgs = gen_imgs.astype(int)\n",
    "\n",
    "    song = muspy.from_pianoroll_representation(gen_imgs.transpose(1,0), resolution=12, encode_velocity=dynamics) \n",
    "    muspy.write(f\"/kaggle/working/generator_music_{num}.midi\", song, kind=\"midi\")\n"
   ],
   "metadata": {
    "execution": {
     "iopub.status.busy": "2023-03-17T13:07:14.064528Z",
     "iopub.execute_input": "2023-03-17T13:07:14.065337Z",
     "iopub.status.idle": "2023-03-17T13:07:21.892878Z",
     "shell.execute_reply.started": "2023-03-17T13:07:14.065297Z",
     "shell.execute_reply": "2023-03-17T13:07:21.891661Z"
    },
    "trusted": true
   },
   "execution_count": 4,
   "outputs": [
    {
     "name": "stdout",
     "text": "Generating GAN_101\nGenerating GAN_102\nGenerating GAN_103\nGenerating GAN_104\nGenerating GAN_105\nGenerating GAN_106\nGenerating GAN_107\nGenerating GAN_108\nGenerating GAN_109\nGenerating GAN_110\nGenerating GAN_111\nGenerating GAN_112\nGenerating GAN_113\nGenerating GAN_114\nGenerating GAN_115\nGenerating GAN_116\nGenerating GAN_117\nGenerating GAN_118\nGenerating GAN_119\nGenerating GAN_120\nGenerating GAN_121\nGenerating GAN_122\nGenerating GAN_123\nGenerating GAN_124\nGenerating GAN_125\nGenerating GAN_126\nGenerating GAN_127\nGenerating GAN_128\nGenerating GAN_129\nGenerating GAN_130\nGenerating GAN_131\nGenerating GAN_132\nGenerating GAN_133\nGenerating GAN_134\nGenerating GAN_135\nGenerating GAN_136\nGenerating GAN_137\nGenerating GAN_138\nGenerating GAN_139\nGenerating GAN_140\nGenerating GAN_141\nGenerating GAN_142\nGenerating GAN_143\nGenerating GAN_144\nGenerating GAN_145\nGenerating GAN_146\nGenerating GAN_147\nGenerating GAN_148\nGenerating GAN_149\nGenerating GAN_150\nGenerating GAN_151\nGenerating GAN_152\nGenerating GAN_153\nGenerating GAN_154\nGenerating GAN_155\nGenerating GAN_156\nGenerating GAN_157\nGenerating GAN_158\nGenerating GAN_159\nGenerating GAN_160\nGenerating GAN_161\nGenerating GAN_162\nGenerating GAN_163\nGenerating GAN_164\nGenerating GAN_165\nGenerating GAN_166\nGenerating GAN_167\nGenerating GAN_168\nGenerating GAN_169\nGenerating GAN_170\nGenerating GAN_171\nGenerating GAN_172\nGenerating GAN_173\nGenerating GAN_174\nGenerating GAN_175\nGenerating GAN_176\nGenerating GAN_177\nGenerating GAN_178\nGenerating GAN_179\nGenerating GAN_180\nGenerating GAN_181\nGenerating GAN_182\nGenerating GAN_183\nGenerating GAN_184\nGenerating GAN_185\nGenerating GAN_186\nGenerating GAN_187\nGenerating GAN_188\nGenerating GAN_189\nGenerating GAN_190\nGenerating GAN_191\nGenerating GAN_192\nGenerating GAN_193\nGenerating GAN_194\nGenerating GAN_195\nGenerating GAN_196\nGenerating GAN_197\nGenerating GAN_198\nGenerating GAN_199\nGenerating GAN_200\n",
     "output_type": "stream"
    }
   ]
  },
  {
   "cell_type": "code",
   "source": [],
   "metadata": {},
   "execution_count": null,
   "outputs": []
  },
  {
   "cell_type": "code",
   "source": "",
   "metadata": {},
   "execution_count": null,
   "outputs": []
  }
 ]
}